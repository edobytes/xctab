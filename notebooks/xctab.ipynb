{
 "cells": [
  {
   "cell_type": "markdown",
   "metadata": {
    "_cell_guid": "6876755d-3552-491d-b416-a012fbe221e4",
    "_uuid": "0b46910d15d98513ea81fb24e0f8ab28134c5f5f",
    "editable": true,
    "slideshow": {
     "slide_type": "slide"
    },
    "tags": []
   },
   "source": [
    "# XC - Tabular Data \n",
    "## Wine Quality - Anomaly Detection\n",
    "\n",
    "___\n",
    "\n",
    "### Task\n",
    "Implement, train, and evaluate an anomaly detection algorithm for tabular data.\n",
    "\n",
    "___"
   ]
  },
  {
   "cell_type": "markdown",
   "metadata": {
    "editable": true,
    "slideshow": {
     "slide_type": "slide"
    },
    "tags": []
   },
   "source": [
    "## 1. Data Preparation"
   ]
  },
  {
   "cell_type": "markdown",
   "metadata": {},
   "source": [
    "### Instructions\n",
    "\n",
    "- Download the dataset: https://archive.ics.uci.edu/static/public/186/wine+quality.zip*\n",
    "\n",
    "- Replace the values in the `quality` column of the test csv's with a flag indicating whether the wine quality is **GOOD**  or **BAD**.\n",
    "\n",
    "- Re-split the data as if you have received 4 datasets:\n",
    "    - White wine Train data: 90% of the GOOD white wine samples.\n",
    "    - Red wine Train data: 90% of the GOOD red wine samples.\n",
    "    - White wine Test data: The remainder of the GOOD and all BAD white wine samples.\n",
    "    - Red wine Test data: The remainder of the GOOD and all BAD red wine samples.\n",
    "\n",
    "- Save the re-split data as CSV files (for example: `white_wine_train.csv`, `red_wine_train.csv`, `white_wine_test.csv`, `red_wine_test.csv`)\n",
    "\n",
    "#### Notes: \n",
    "\n",
    "- GOOD sample: a sample with a \"quality\" value of 5 or more.\n",
    "- BAD sample: a sample with a \"quality\" value of 4 or less.\n",
    "- The flag can be of any type you prefer (0/1, text, boolean, etc.).\n",
    "You will use this column later to measure the accuracy of your algorithm."
   ]
  },
  {
   "cell_type": "markdown",
   "metadata": {},
   "source": [
    "Load dataset"
   ]
  },
  {
   "cell_type": "code",
   "execution_count": 1,
   "metadata": {
    "ExecuteTime": {
     "end_time": "2020-08-06T07:08:30.531936Z",
     "start_time": "2020-08-06T07:08:30.512787Z"
    },
    "_cell_guid": "800f9ff4-79bf-4785-9569-23e1d9b9b03b",
    "_uuid": "07c8409e4eccd80507d9846e8cc70ea42e58cbe6"
   },
   "outputs": [
    {
     "data": {
      "text/html": [
       "<div>\n",
       "<style scoped>\n",
       "    .dataframe tbody tr th:only-of-type {\n",
       "        vertical-align: middle;\n",
       "    }\n",
       "\n",
       "    .dataframe tbody tr th {\n",
       "        vertical-align: top;\n",
       "    }\n",
       "\n",
       "    .dataframe thead th {\n",
       "        text-align: right;\n",
       "    }\n",
       "</style>\n",
       "<table border=\"1\" class=\"dataframe\">\n",
       "  <thead>\n",
       "    <tr style=\"text-align: right;\">\n",
       "      <th></th>\n",
       "      <th>type</th>\n",
       "      <th>fixed acidity</th>\n",
       "      <th>volatile acidity</th>\n",
       "      <th>citric acid</th>\n",
       "      <th>residual sugar</th>\n",
       "      <th>chlorides</th>\n",
       "      <th>free sulfur dioxide</th>\n",
       "      <th>total sulfur dioxide</th>\n",
       "      <th>density</th>\n",
       "      <th>pH</th>\n",
       "      <th>sulphates</th>\n",
       "      <th>alcohol</th>\n",
       "      <th>quality</th>\n",
       "    </tr>\n",
       "  </thead>\n",
       "  <tbody>\n",
       "    <tr>\n",
       "      <th>0</th>\n",
       "      <td>white</td>\n",
       "      <td>7.0</td>\n",
       "      <td>0.27</td>\n",
       "      <td>0.36</td>\n",
       "      <td>20.7</td>\n",
       "      <td>0.045</td>\n",
       "      <td>45.0</td>\n",
       "      <td>170.0</td>\n",
       "      <td>1.0010</td>\n",
       "      <td>3.00</td>\n",
       "      <td>0.45</td>\n",
       "      <td>8.8</td>\n",
       "      <td>6</td>\n",
       "    </tr>\n",
       "    <tr>\n",
       "      <th>1</th>\n",
       "      <td>white</td>\n",
       "      <td>6.3</td>\n",
       "      <td>0.30</td>\n",
       "      <td>0.34</td>\n",
       "      <td>1.6</td>\n",
       "      <td>0.049</td>\n",
       "      <td>14.0</td>\n",
       "      <td>132.0</td>\n",
       "      <td>0.9940</td>\n",
       "      <td>3.30</td>\n",
       "      <td>0.49</td>\n",
       "      <td>9.5</td>\n",
       "      <td>6</td>\n",
       "    </tr>\n",
       "    <tr>\n",
       "      <th>2</th>\n",
       "      <td>white</td>\n",
       "      <td>8.1</td>\n",
       "      <td>0.28</td>\n",
       "      <td>0.40</td>\n",
       "      <td>6.9</td>\n",
       "      <td>0.050</td>\n",
       "      <td>30.0</td>\n",
       "      <td>97.0</td>\n",
       "      <td>0.9951</td>\n",
       "      <td>3.26</td>\n",
       "      <td>0.44</td>\n",
       "      <td>10.1</td>\n",
       "      <td>6</td>\n",
       "    </tr>\n",
       "    <tr>\n",
       "      <th>3</th>\n",
       "      <td>white</td>\n",
       "      <td>7.2</td>\n",
       "      <td>0.23</td>\n",
       "      <td>0.32</td>\n",
       "      <td>8.5</td>\n",
       "      <td>0.058</td>\n",
       "      <td>47.0</td>\n",
       "      <td>186.0</td>\n",
       "      <td>0.9956</td>\n",
       "      <td>3.19</td>\n",
       "      <td>0.40</td>\n",
       "      <td>9.9</td>\n",
       "      <td>6</td>\n",
       "    </tr>\n",
       "    <tr>\n",
       "      <th>4</th>\n",
       "      <td>white</td>\n",
       "      <td>7.2</td>\n",
       "      <td>0.23</td>\n",
       "      <td>0.32</td>\n",
       "      <td>8.5</td>\n",
       "      <td>0.058</td>\n",
       "      <td>47.0</td>\n",
       "      <td>186.0</td>\n",
       "      <td>0.9956</td>\n",
       "      <td>3.19</td>\n",
       "      <td>0.40</td>\n",
       "      <td>9.9</td>\n",
       "      <td>6</td>\n",
       "    </tr>\n",
       "  </tbody>\n",
       "</table>\n",
       "</div>"
      ],
      "text/plain": [
       "    type  fixed acidity  volatile acidity  citric acid  residual sugar  \\\n",
       "0  white            7.0              0.27         0.36            20.7   \n",
       "1  white            6.3              0.30         0.34             1.6   \n",
       "2  white            8.1              0.28         0.40             6.9   \n",
       "3  white            7.2              0.23         0.32             8.5   \n",
       "4  white            7.2              0.23         0.32             8.5   \n",
       "\n",
       "   chlorides  free sulfur dioxide  total sulfur dioxide  density    pH  \\\n",
       "0      0.045                 45.0                 170.0   1.0010  3.00   \n",
       "1      0.049                 14.0                 132.0   0.9940  3.30   \n",
       "2      0.050                 30.0                  97.0   0.9951  3.26   \n",
       "3      0.058                 47.0                 186.0   0.9956  3.19   \n",
       "4      0.058                 47.0                 186.0   0.9956  3.19   \n",
       "\n",
       "   sulphates  alcohol  quality  \n",
       "0       0.45      8.8        6  \n",
       "1       0.49      9.5        6  \n",
       "2       0.44     10.1        6  \n",
       "3       0.40      9.9        6  \n",
       "4       0.40      9.9        6  "
      ]
     },
     "execution_count": 1,
     "metadata": {},
     "output_type": "execute_result"
    }
   ],
   "source": [
    "import pandas as pd\n",
    "\n",
    "# Loading dataset\n",
    "\n",
    "wine = pd.read_csv('../data/winequality.csv')\n",
    "\n",
    "# Rapid inspection\n",
    "\n",
    "wine.head()"
   ]
  },
  {
   "cell_type": "markdown",
   "metadata": {},
   "source": [
    "Clean dataset"
   ]
  },
  {
   "cell_type": "code",
   "execution_count": 2,
   "metadata": {},
   "outputs": [
    {
     "name": "stdout",
     "output_type": "stream",
     "text": [
      "Dataframe's shape is: (6497, 13)\n",
      "Number of rows with NaN: 34\n",
      "Cleaned dataframe's shape is: (6463, 13)\n"
     ]
    }
   ],
   "source": [
    "# Print shape\n",
    "print(\"Dataframe's shape is: {}\".format(wine.shape))\n",
    "\n",
    "# Count rows with NaN\n",
    "print(\"Number of rows with NaN: {}\".format(len(wine) - len(wine.dropna())))\n",
    "\n",
    "# Drop rows with NaN\n",
    "wine = wine.dropna()\n",
    "\n",
    "# Print new shape\n",
    "print(\"Cleaned dataframe's shape is: {}\".format(wine.shape))"
   ]
  },
  {
   "cell_type": "markdown",
   "metadata": {},
   "source": [
    "Make bins & assign labels"
   ]
  },
  {
   "cell_type": "code",
   "execution_count": 3,
   "metadata": {},
   "outputs": [],
   "source": [
    "from sklearn.preprocessing import LabelEncoder\n",
    "\n",
    "bins = [0, 4, 10]\n",
    "labels =  ['bad', 'good']\n",
    "wine['quality'] = pd.cut(wine['quality'], bins = bins, labels = labels)\n",
    "label_quality = LabelEncoder()\n",
    "wine['quality'] = label_quality.fit_transform(wine['quality'])"
   ]
  },
  {
   "cell_type": "markdown",
   "metadata": {},
   "source": [
    "Separate red/white"
   ]
  },
  {
   "cell_type": "code",
   "execution_count": 4,
   "metadata": {},
   "outputs": [],
   "source": [
    "red = wine[wine['type'] == 'red']\n",
    "white = wine[wine['type'] == 'white']\n",
    "red = red.drop(\"type\", axis=1)\n",
    "white = white.drop(\"type\", axis=1)"
   ]
  },
  {
   "cell_type": "markdown",
   "metadata": {},
   "source": [
    "Separate bad/good wine"
   ]
  },
  {
   "cell_type": "code",
   "execution_count": 5,
   "metadata": {},
   "outputs": [],
   "source": [
    "red_good = red[red['quality'] == 1]\n",
    "red_bad = red[red['quality'] == 0]\n",
    "white_good = white[white['quality'] == 1]\n",
    "white_bad = white[white['quality'] == 0]"
   ]
  },
  {
   "cell_type": "markdown",
   "metadata": {},
   "source": [
    "Rapid inspection"
   ]
  },
  {
   "cell_type": "code",
   "execution_count": 6,
   "metadata": {},
   "outputs": [
    {
     "name": "stdout",
     "output_type": "stream",
     "text": [
      "Red good: 1531 \n",
      "Red bad: 62 \n",
      "White good: 4688 \n",
      "White bad: 182\n"
     ]
    }
   ],
   "source": [
    "print(f\"Red good: {red_good.shape[0]} \\nRed bad: {red_bad.shape[0]} \\nWhite good: {white_good.shape[0]} \\nWhite bad: {white_bad.shape[0]}\")"
   ]
  },
  {
   "cell_type": "markdown",
   "metadata": {},
   "source": [
    "Split"
   ]
  },
  {
   "cell_type": "code",
   "execution_count": 7,
   "metadata": {},
   "outputs": [],
   "source": [
    "from sklearn.model_selection import train_test_split\n",
    "\n",
    "random_state = 42\n",
    "\n",
    "red_train, red_good_remainder = train_test_split(\n",
    "    red_good, test_size=0.1, random_state=random_state, stratify=red_good['quality'])\n",
    "\n",
    "white_train, white_good_remainder = train_test_split(\n",
    "    white_good, test_size=0.1, random_state=random_state, stratify=white_good['quality'])"
   ]
  },
  {
   "cell_type": "markdown",
   "metadata": {},
   "source": [
    "Sanity check"
   ]
  },
  {
   "cell_type": "code",
   "execution_count": 8,
   "metadata": {},
   "outputs": [
    {
     "name": "stdout",
     "output_type": "stream",
     "text": [
      "Red train size: 1377, Red test size: 154 + 62\n",
      "White train size: 4219, White test size: 469 + 182\n"
     ]
    }
   ],
   "source": [
    "print(f\"Red train size: {red_train.shape[0]}, Red test size: {red_good_remainder.shape[0]} + {red_bad.shape[0]}\")\n",
    "print(f\"White train size: {white_train.shape[0]}, White test size: {white_good_remainder.shape[0]} + {white_bad.shape[0]}\")"
   ]
  },
  {
   "cell_type": "markdown",
   "metadata": {},
   "source": [
    "Concatenate"
   ]
  },
  {
   "cell_type": "code",
   "execution_count": 9,
   "metadata": {},
   "outputs": [],
   "source": [
    "red_test = pd.concat([red_good_remainder, red_bad], axis=0) \n",
    "white_test = pd.concat([white_good_remainder, white_bad], axis=0) "
   ]
  },
  {
   "cell_type": "markdown",
   "metadata": {},
   "source": [
    "Shuffle"
   ]
  },
  {
   "cell_type": "code",
   "execution_count": 10,
   "metadata": {},
   "outputs": [],
   "source": [
    "for df in [red_train, red_test, white_train, white_test]:\n",
    "    df = df.sample(frac=1).reset_index(drop=True)"
   ]
  },
  {
   "cell_type": "markdown",
   "metadata": {},
   "source": [
    "Export"
   ]
  },
  {
   "cell_type": "code",
   "execution_count": 11,
   "metadata": {},
   "outputs": [],
   "source": [
    "red_train.to_csv(\"../data/red_train.csv\", index=False)\n",
    "red_test.to_csv(\"../data/red_test.csv\", index=False)\n",
    "white_train.to_csv(\"../data/white_train.csv\", index=False)\n",
    "white_test.to_csv(\"../data/white_test.csv\", index=False)"
   ]
  },
  {
   "cell_type": "markdown",
   "metadata": {},
   "source": [
    "Loading utility"
   ]
  },
  {
   "cell_type": "code",
   "execution_count": 12,
   "metadata": {},
   "outputs": [],
   "source": [
    "from sklearn.preprocessing import StandardScaler\n",
    "\n",
    "def loader(data_path):\n",
    "    \"\"\"\n",
    "    Load data from specified path.\n",
    "\n",
    "    Args:\n",
    "        data (str): file path\n",
    "    \n",
    "    Returns:\n",
    "        (tuple): X (features), y (target variable), and column names (cols)\n",
    "    \"\"\"\n",
    "    df = pd.read_csv(data_path)\n",
    "    X = df.drop(\"quality\", axis=1)\n",
    "    y = df['quality']\n",
    "    cols = list(df.columns)\n",
    "    sc = StandardScaler()\n",
    "    X = sc.fit_transform(X)\n",
    "    return X, y, cols"
   ]
  },
  {
   "cell_type": "markdown",
   "metadata": {},
   "source": [
    "## 2. Data Analysis\n",
    "\n",
    "___\n",
    "\n",
    "### Instructions\n",
    "\n",
    "Explore the data to decide what kind of model can be used.\n",
    "\n",
    "___"
   ]
  },
  {
   "cell_type": "markdown",
   "metadata": {},
   "source": [
    "### Example: Red wine"
   ]
  },
  {
   "cell_type": "code",
   "execution_count": 13,
   "metadata": {},
   "outputs": [],
   "source": [
    "train_set = \"../data/red_train.csv\"\n",
    "X_train, y_train, _ = loader(train_set)\n",
    "\n",
    "test_set = \"../data/red_test.csv\"\n",
    "X_test, y_test, _ = loader(test_set)"
   ]
  },
  {
   "cell_type": "markdown",
   "metadata": {},
   "source": [
    "#### Isolation Forest\n",
    "\n",
    "The algorithm works by isolating each data point from the others, and the points that are isolated the most are considered anomalies."
   ]
  },
  {
   "cell_type": "code",
   "execution_count": 14,
   "metadata": {},
   "outputs": [
    {
     "name": "stdout",
     "output_type": "stream",
     "text": [
      "\n",
      "On Test Data:\n",
      "Isolation Forest ROC:0.4592, precision @ rank n:0.7078\n",
      "Feature importance [0.08628431 0.09511631 0.10370627 0.09200928 0.09491412 0.07641955\n",
      " 0.08429086 0.09420396 0.0951295  0.08211831 0.09580752]\n"
     ]
    }
   ],
   "source": [
    "from pyod.models.iforest import IForest\n",
    "from pyod.utils.data import evaluate_print\n",
    "\n",
    "iforest = IForest()\n",
    "iforest.fit(X_train)\n",
    "\n",
    "iforest_predictions = iforest.predict(X_test)  # outlier labels (0 or 1)\n",
    "iforest_scores = iforest.decision_function(X_test)  # outlier scores\n",
    "\n",
    "print(\"\\nOn Test Data:\")\n",
    "evaluate_print('Isolation Forest', y_test, iforest_scores)\n",
    "\n",
    "# example of the feature importance\n",
    "feature_importance = iforest.feature_importances_\n",
    "print(\"Feature importance\", feature_importance)"
   ]
  },
  {
   "cell_type": "code",
   "execution_count": 15,
   "metadata": {},
   "outputs": [
    {
     "data": {
      "text/plain": [
       "array([0, 0, 0, 0, 1, 0, 0, 0, 0, 0, 0, 0, 0, 0, 0, 0, 0, 0, 0, 0, 0, 0,\n",
       "       0, 0, 1, 0, 0, 0, 0, 0, 0, 0, 0, 0, 0, 0, 0, 0, 0, 0, 0, 0, 0, 0,\n",
       "       0, 0, 0, 0, 0, 0, 0, 0, 0, 0, 0, 0, 0, 0, 0, 1, 0, 0, 0, 0, 0, 0,\n",
       "       0, 0, 0, 0, 0, 0, 0, 0, 0, 0, 1, 0, 0, 0, 0, 1, 0, 0, 0, 0, 0, 0,\n",
       "       0, 0, 1, 0, 0, 0, 0, 0, 0, 0, 0, 1, 0, 0, 0, 0, 0, 1, 0, 0, 0, 0,\n",
       "       1, 0, 0, 0, 0, 0, 0, 0, 0, 0, 0, 0, 0, 0, 0, 0, 0, 0, 0, 0, 1, 0,\n",
       "       0, 0, 0, 0, 0, 0, 0, 0, 0, 0, 0, 0, 0, 1, 0, 1, 0, 1, 0, 0, 0, 0,\n",
       "       0, 1, 0, 1, 0, 0, 1, 1, 0, 0, 0, 0, 0, 0, 0, 0, 0, 0, 0, 0, 0, 0,\n",
       "       0, 0, 0, 0, 0, 0, 0, 0, 0, 0, 0, 0, 0, 0, 0, 0, 0, 0, 0, 1, 0, 0,\n",
       "       0, 0, 0, 0, 1, 0, 0, 0, 0, 0, 0, 0, 0, 0, 0, 0, 0, 0])"
      ]
     },
     "execution_count": 15,
     "metadata": {},
     "output_type": "execute_result"
    }
   ],
   "source": [
    "iforest_predictions"
   ]
  },
  {
   "cell_type": "code",
   "execution_count": 16,
   "metadata": {},
   "outputs": [],
   "source": [
    "# y_labels = (0, 1) # bad (outlier), good (inlier)\n",
    "# sklearn_labels = (-1, 1) # outlier, inlier\n",
    "# pyod_labels = (0, 1) # inlier, outlier\n",
    "\n",
    "import numpy as np \n",
    "\n",
    "def recode(predictions, implementation):\n",
    "    assert implementation in ['sklearn', 'pyod']\n",
    "    if implementation == 'sklearn':\n",
    "        l = lambda x: 1 if x == 1 else 0\n",
    "    else:\n",
    "        l = lambda x: 0 if x == 1 else 1\n",
    "    return np.array(list(map(l, predictions)))"
   ]
  },
  {
   "cell_type": "code",
   "execution_count": 17,
   "metadata": {},
   "outputs": [
    {
     "data": {
      "text/plain": [
       "array([1, 1, 1, 1, 0, 1, 1, 1, 1, 1, 1, 1, 1, 1, 1, 1, 1, 1, 1, 1, 1, 1,\n",
       "       1, 1, 0, 1, 1, 1, 1, 1, 1, 1, 1, 1, 1, 1, 1, 1, 1, 1, 1, 1, 1, 1,\n",
       "       1, 1, 1, 1, 1, 1, 1, 1, 1, 1, 1, 1, 1, 1, 1, 0, 1, 1, 1, 1, 1, 1,\n",
       "       1, 1, 1, 1, 1, 1, 1, 1, 1, 1, 0, 1, 1, 1, 1, 0, 1, 1, 1, 1, 1, 1,\n",
       "       1, 1, 0, 1, 1, 1, 1, 1, 1, 1, 1, 0, 1, 1, 1, 1, 1, 0, 1, 1, 1, 1,\n",
       "       0, 1, 1, 1, 1, 1, 1, 1, 1, 1, 1, 1, 1, 1, 1, 1, 1, 1, 1, 1, 0, 1,\n",
       "       1, 1, 1, 1, 1, 1, 1, 1, 1, 1, 1, 1, 1, 0, 1, 0, 1, 0, 1, 1, 1, 1,\n",
       "       1, 0, 1, 0, 1, 1, 0, 0, 1, 1, 1, 1, 1, 1, 1, 1, 1, 1, 1, 1, 1, 1,\n",
       "       1, 1, 1, 1, 1, 1, 1, 1, 1, 1, 1, 1, 1, 1, 1, 1, 1, 1, 1, 0, 1, 1,\n",
       "       1, 1, 1, 1, 0, 1, 1, 1, 1, 1, 1, 1, 1, 1, 1, 1, 1, 1])"
      ]
     },
     "execution_count": 17,
     "metadata": {},
     "output_type": "execute_result"
    }
   ],
   "source": [
    "iforest_predictions = recode(iforest_predictions, 'pyod')\n",
    "iforest_predictions"
   ]
  },
  {
   "cell_type": "code",
   "execution_count": 18,
   "metadata": {},
   "outputs": [
    {
     "name": "stdout",
     "output_type": "stream",
     "text": [
      "AUC:  0.5061793045664014\n"
     ]
    }
   ],
   "source": [
    "from sklearn.metrics import roc_auc_score\n",
    "\n",
    "# calculate the AUC\n",
    "iforest_auc = roc_auc_score(y_test, iforest_predictions)\n",
    "print(\"AUC: \", iforest_auc)"
   ]
  },
  {
   "cell_type": "code",
   "execution_count": 19,
   "metadata": {},
   "outputs": [
    {
     "name": "stdout",
     "output_type": "stream",
     "text": [
      "F1 score:  0.4757834757834758\n"
     ]
    }
   ],
   "source": [
    "from sklearn.metrics import f1_score\n",
    "\n",
    "# calculate the F1-score\n",
    "iforest_fscore = f1_score(y_test, iforest_predictions, average='macro')\n",
    "print(\"F1 score: \", iforest_fscore)"
   ]
  },
  {
   "cell_type": "code",
   "execution_count": 20,
   "metadata": {},
   "outputs": [],
   "source": [
    "def prediction_df(predictions, scores):\n",
    "    return pd.DataFrame({'prediction': predictions,\n",
    "                        'score': scores\n",
    "                        })"
   ]
  },
  {
   "cell_type": "code",
   "execution_count": 21,
   "metadata": {},
   "outputs": [
    {
     "data": {
      "text/html": [
       "<div>\n",
       "<style scoped>\n",
       "    .dataframe tbody tr th:only-of-type {\n",
       "        vertical-align: middle;\n",
       "    }\n",
       "\n",
       "    .dataframe tbody tr th {\n",
       "        vertical-align: top;\n",
       "    }\n",
       "\n",
       "    .dataframe thead th {\n",
       "        text-align: right;\n",
       "    }\n",
       "</style>\n",
       "<table border=\"1\" class=\"dataframe\">\n",
       "  <thead>\n",
       "    <tr style=\"text-align: right;\">\n",
       "      <th></th>\n",
       "      <th>prediction</th>\n",
       "      <th>score</th>\n",
       "    </tr>\n",
       "  </thead>\n",
       "  <tbody>\n",
       "    <tr>\n",
       "      <th>0</th>\n",
       "      <td>1</td>\n",
       "      <td>1</td>\n",
       "    </tr>\n",
       "    <tr>\n",
       "      <th>1</th>\n",
       "      <td>1</td>\n",
       "      <td>1</td>\n",
       "    </tr>\n",
       "    <tr>\n",
       "      <th>2</th>\n",
       "      <td>1</td>\n",
       "      <td>1</td>\n",
       "    </tr>\n",
       "    <tr>\n",
       "      <th>3</th>\n",
       "      <td>1</td>\n",
       "      <td>1</td>\n",
       "    </tr>\n",
       "    <tr>\n",
       "      <th>4</th>\n",
       "      <td>1</td>\n",
       "      <td>0</td>\n",
       "    </tr>\n",
       "    <tr>\n",
       "      <th>...</th>\n",
       "      <td>...</td>\n",
       "      <td>...</td>\n",
       "    </tr>\n",
       "    <tr>\n",
       "      <th>211</th>\n",
       "      <td>0</td>\n",
       "      <td>1</td>\n",
       "    </tr>\n",
       "    <tr>\n",
       "      <th>212</th>\n",
       "      <td>0</td>\n",
       "      <td>1</td>\n",
       "    </tr>\n",
       "    <tr>\n",
       "      <th>213</th>\n",
       "      <td>0</td>\n",
       "      <td>1</td>\n",
       "    </tr>\n",
       "    <tr>\n",
       "      <th>214</th>\n",
       "      <td>0</td>\n",
       "      <td>1</td>\n",
       "    </tr>\n",
       "    <tr>\n",
       "      <th>215</th>\n",
       "      <td>0</td>\n",
       "      <td>1</td>\n",
       "    </tr>\n",
       "  </tbody>\n",
       "</table>\n",
       "<p>216 rows × 2 columns</p>\n",
       "</div>"
      ],
      "text/plain": [
       "     prediction  score\n",
       "0             1      1\n",
       "1             1      1\n",
       "2             1      1\n",
       "3             1      1\n",
       "4             1      0\n",
       "..          ...    ...\n",
       "211           0      1\n",
       "212           0      1\n",
       "213           0      1\n",
       "214           0      1\n",
       "215           0      1\n",
       "\n",
       "[216 rows x 2 columns]"
      ]
     },
     "execution_count": 21,
     "metadata": {},
     "output_type": "execute_result"
    }
   ],
   "source": [
    "iforest_results = prediction_df(y_test, iforest_predictions)\n",
    "iforest_results"
   ]
  },
  {
   "cell_type": "code",
   "execution_count": 22,
   "metadata": {},
   "outputs": [],
   "source": [
    "from sklearn.metrics import classification_report\n",
    "\n",
    "def report_df(y, predictions):\n",
    "    labels = [0, 1]\n",
    "    report_dict = classification_report(y, predictions, output_dict=True)\n",
    "    output_df = pd.DataFrame(report_dict).round(2).transpose()\n",
    "    output_df.insert(loc=0, column='class', value=labels + [\"accuracy\", \"macro avg\", \"weighted avg\"])\n",
    "    output_df = output_df.reset_index(drop=True)\n",
    "    return output_df"
   ]
  },
  {
   "cell_type": "code",
   "execution_count": 23,
   "metadata": {},
   "outputs": [
    {
     "data": {
      "text/html": [
       "<div>\n",
       "<style scoped>\n",
       "    .dataframe tbody tr th:only-of-type {\n",
       "        vertical-align: middle;\n",
       "    }\n",
       "\n",
       "    .dataframe tbody tr th {\n",
       "        vertical-align: top;\n",
       "    }\n",
       "\n",
       "    .dataframe thead th {\n",
       "        text-align: right;\n",
       "    }\n",
       "</style>\n",
       "<table border=\"1\" class=\"dataframe\">\n",
       "  <thead>\n",
       "    <tr style=\"text-align: right;\">\n",
       "      <th></th>\n",
       "      <th>class</th>\n",
       "      <th>precision</th>\n",
       "      <th>recall</th>\n",
       "      <th>f1-score</th>\n",
       "      <th>support</th>\n",
       "    </tr>\n",
       "  </thead>\n",
       "  <tbody>\n",
       "    <tr>\n",
       "      <th>0</th>\n",
       "      <td>0</td>\n",
       "      <td>0.32</td>\n",
       "      <td>0.10</td>\n",
       "      <td>0.15</td>\n",
       "      <td>62.00</td>\n",
       "    </tr>\n",
       "    <tr>\n",
       "      <th>1</th>\n",
       "      <td>1</td>\n",
       "      <td>0.72</td>\n",
       "      <td>0.92</td>\n",
       "      <td>0.80</td>\n",
       "      <td>154.00</td>\n",
       "    </tr>\n",
       "    <tr>\n",
       "      <th>2</th>\n",
       "      <td>accuracy</td>\n",
       "      <td>0.68</td>\n",
       "      <td>0.68</td>\n",
       "      <td>0.68</td>\n",
       "      <td>0.68</td>\n",
       "    </tr>\n",
       "    <tr>\n",
       "      <th>3</th>\n",
       "      <td>macro avg</td>\n",
       "      <td>0.52</td>\n",
       "      <td>0.51</td>\n",
       "      <td>0.48</td>\n",
       "      <td>216.00</td>\n",
       "    </tr>\n",
       "    <tr>\n",
       "      <th>4</th>\n",
       "      <td>weighted avg</td>\n",
       "      <td>0.60</td>\n",
       "      <td>0.68</td>\n",
       "      <td>0.62</td>\n",
       "      <td>216.00</td>\n",
       "    </tr>\n",
       "  </tbody>\n",
       "</table>\n",
       "</div>"
      ],
      "text/plain": [
       "          class  precision  recall  f1-score  support\n",
       "0             0       0.32    0.10      0.15    62.00\n",
       "1             1       0.72    0.92      0.80   154.00\n",
       "2      accuracy       0.68    0.68      0.68     0.68\n",
       "3     macro avg       0.52    0.51      0.48   216.00\n",
       "4  weighted avg       0.60    0.68      0.62   216.00"
      ]
     },
     "execution_count": 23,
     "metadata": {},
     "output_type": "execute_result"
    }
   ],
   "source": [
    "iforest_report = report_df(y_test, iforest_predictions)\n",
    "iforest_report"
   ]
  },
  {
   "cell_type": "code",
   "execution_count": 24,
   "metadata": {},
   "outputs": [],
   "source": [
    "import numpy as np\n",
    "import seaborn as sns\n",
    "from sklearn.metrics import confusion_matrix\n",
    "\n",
    "def plot_cmatrix(y, predictions):\n",
    "    conf_matrix = confusion_matrix(y, predictions)\n",
    "    group_names = ['True Neg', 'False Pos', 'False Neg', 'True Pos']\n",
    "    group_counts = [\"{0:0.0f}\".format(value) for value in conf_matrix.flatten()]\n",
    "    group_percentages = [\"{0:.2%}\".format(value) for value in conf_matrix.flatten()/np.sum(conf_matrix)]\n",
    "    labels = [f\"{v1}\\n{v2}\\n{v3}\" for v1, v2, v3 in zip(group_names,group_counts,group_percentages)]\n",
    "    labels = np.asarray(labels).reshape(2,2)\n",
    "    sns_plot = sns.heatmap(conf_matrix, annot=labels, fmt='', cmap='Blues')\n",
    "    fig = sns_plot.figure\n",
    "    #plt.savefig(export_path)\n",
    "    return fig"
   ]
  },
  {
   "cell_type": "code",
   "execution_count": 25,
   "metadata": {},
   "outputs": [
    {
     "data": {
      "image/png": "[encoded data removed]",
      "text/plain": [
       "<Figure size 640x480 with 2 Axes>"
      ]
     },
     "metadata": {},
     "output_type": "display_data"
    }
   ],
   "source": [
    "f = plot_cmatrix(y_test, iforest_predictions)"
   ]
  },
  {
   "cell_type": "markdown",
   "metadata": {},
   "source": [
    "#### K-Nearest Neighbors (KNN)\n",
    "\n",
    "KNN calculates the distance to the k-nearest neighbors and identifies points with high distance as anomalies."
   ]
  },
  {
   "cell_type": "code",
   "execution_count": 26,
   "metadata": {},
   "outputs": [
    {
     "name": "stdout",
     "output_type": "stream",
     "text": [
      "\n",
      "On Test Data:\n",
      "KNN ROC:0.4478, precision @ rank n:0.6948\n"
     ]
    }
   ],
   "source": [
    "from pyod.models.knn import KNN  \n",
    "\n",
    "knn = KNN()\n",
    "knn.fit(X_train)\n",
    "\n",
    "# get the prediction on the test data\n",
    "knn_predictions = knn.predict(X_test)  # outlier labels (0 or 1)\n",
    "knn_scores = knn.decision_function(X_test)  # outlier scores\n",
    "\n",
    "# it is possible to get the prediction confidence as well\n",
    "knn_predictions, knn_confidence = knn.predict(X_test, return_confidence=True)  # outlier labels (0 or 1) and confidence in the range of [0,1]\n",
    "\n",
    "print(\"\\nOn Test Data:\")\n",
    "evaluate_print('KNN', y_test, knn_scores)"
   ]
  },
  {
   "cell_type": "markdown",
   "metadata": {},
   "source": [
    "#### Empirical Cumulative Distribution-based Outlier Detection (ECOD)\n",
    "\n",
    "ECOD is a non-parametric method that uses canonical correlation analysis (CCA) to learn a low-dimensional representation of the data. The method is based on the idea of finding a linear transformation that maximizes the correlation between the original data and its low-dimensional representation.\n"
   ]
  },
  {
   "cell_type": "code",
   "execution_count": 27,
   "metadata": {},
   "outputs": [
    {
     "name": "stdout",
     "output_type": "stream",
     "text": [
      "\n",
      "On Test Data:\n",
      "ECOD ROC:0.4069, precision @ rank n:0.6883\n"
     ]
    }
   ],
   "source": [
    "from pyod.models.ecod import ECOD\n",
    "\n",
    "ecod = ECOD()\n",
    "ecod.fit(X_train)\n",
    "\n",
    "# get the prediction on the test data\n",
    "ecod_predictions = ecod.predict(X_test)  # outlier labels (0 or 1)\n",
    "ecod_scores = ecod.decision_function(X_test)  # outlier scores\n",
    "\n",
    "print(\"\\nOn Test Data:\")\n",
    "evaluate_print(\"ECOD\", y_test, ecod_scores)"
   ]
  },
  {
   "cell_type": "markdown",
   "metadata": {},
   "source": [
    "#### Autoencoder\n",
    "\n",
    "An autoencoder learns a mapping from the input space to a lower-dimensional space and back to the input space, and identifies points that are not well-represented in the lower-dimensional space as anomalies."
   ]
  },
  {
   "cell_type": "code",
   "execution_count": 28,
   "metadata": {},
   "outputs": [
    {
     "name": "stderr",
     "output_type": "stream",
     "text": [
      "Training: 100%|██████████| 30/30 [00:01<00:00, 18.57it/s]\n"
     ]
    },
    {
     "name": "stdout",
     "output_type": "stream",
     "text": [
      "\n",
      "On Test Data:\n",
      "Autoencoder ROC:0.4468, precision @ rank n:0.7013\n"
     ]
    }
   ],
   "source": [
    "from pyod.models.auto_encoder import AutoEncoder\n",
    "\n",
    "\n",
    "autoencoder = AutoEncoder(epoch_num=30, contamination=0.00001)\n",
    "autoencoder.fit(X_train)\n",
    "\n",
    "# get the prediction on the test data\n",
    "autoencoder_pred = autoencoder.predict(X_test)  # outlier labels (0 or 1)\n",
    "autoencoder_scores = autoencoder.decision_function(X_test)  # outlier scores\n",
    "\n",
    "print(\"\\nOn Test Data:\")\n",
    "evaluate_print('Autoencoder', y_test, autoencoder_scores)"
   ]
  },
  {
   "cell_type": "markdown",
   "metadata": {},
   "source": [
    "## 3. Python Package Implementation\n",
    "\n",
    "<span style=\"color:teal\">IMPLEMENTED IN `xctab`, IN THE ROOT FOLDER.</span>\n",
    "___\n",
    "\n",
    "### Instructions\n",
    "\n",
    "Your package should contain:\n",
    "\n",
    "- A train function that receives the training data in the appropriate format[3], along with the training configuration, trains the algorithm, and saves the trained parameters.\n",
    "\n",
    "- A predict function that receives one or more samples and returns their quality (GOOD or BAD) and the probability (or likelihood, or score, or distance) associated.\n",
    "\n",
    "- An inference function that receives the testing data in the appropriate format[3], predicts the results, computes, and saves the accuracy statistics (e.g., individual results, confusion matrix, Fscore, etc. - You may judge what is necessary).\n",
    "\n",
    "- A CLI interface is welcome but not necessary.\n",
    "\n",
    "- Prepare a short README with installation instructions and usage guide.\n",
    "\n",
    "\n",
    "#### Notes:\n",
    "- The input format may be a Pandas DataFrame, NumPy array, or another format you find suitable.\n",
    "\n",
    "- DO NOT use the quality values for prediction. They should just serve as ground truth to evaluate the results.\n",
    "\n",
    "- Use the output of the inference function to make your report.\n",
    "\n",
    "- Consider that your package could be used for different datasets; the wine dataset is just an example use case.\n",
    "\n",
    "___"
   ]
  }
 ],
 "metadata": {
  "kernelspec": {
   "display_name": "xctab",
   "language": "python",
   "name": "python3"
  },
  "language_info": {
   "codemirror_mode": {
    "name": "ipython",
    "version": 3
   },
   "file_extension": ".py",
   "mimetype": "text/x-python",
   "name": "python",
   "nbconvert_exporter": "python",
   "pygments_lexer": "ipython3",
   "version": "3.11.11"
  }
 },
 "nbformat": 4,
 "nbformat_minor": 4
}
